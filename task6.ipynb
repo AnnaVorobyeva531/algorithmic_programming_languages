{
 "cells": [
  {
   "cell_type": "code",
   "execution_count": 1,
   "metadata": {},
   "outputs": [],
   "source": [
    "from pyDatalog import pyDatalog"
   ]
  },
  {
   "cell_type": "code",
   "execution_count": 289,
   "metadata": {},
   "outputs": [],
   "source": [
    "pyDatalog.create_terms('car_brand, rental_cost, client,issue,number_of_requests,discount,discount_rental_price, A, B, C,D,E,F,N')"
   ]
  },
  {
   "cell_type": "code",
   "execution_count": 290,
   "metadata": {},
   "outputs": [],
   "source": [
    "+ car_brand('Hyundai i10','A')"
   ]
  },
  {
   "cell_type": "code",
   "execution_count": 291,
   "metadata": {},
   "outputs": [],
   "source": [
    "+ car_brand('Chevrolet Aveo','B')"
   ]
  },
  {
   "cell_type": "code",
   "execution_count": 292,
   "metadata": {},
   "outputs": [],
   "source": [
    "+ car_brand('Toyota Corolla','C')"
   ]
  },
  {
   "cell_type": "code",
   "execution_count": 293,
   "metadata": {},
   "outputs": [],
   "source": [
    "+ car_brand('Audi A4','D')"
   ]
  },
  {
   "cell_type": "code",
   "execution_count": 294,
   "metadata": {},
   "outputs": [],
   "source": [
    "+ car_brand('Renault Logan','B')"
   ]
  },
  {
   "cell_type": "code",
   "execution_count": 295,
   "metadata": {},
   "outputs": [
    {
     "name": "stdout",
     "output_type": "stream",
     "text": [
      "A              | B\n",
      "---------------|--\n",
      "Renault Logan  | B\n",
      "Audi A4        | D\n",
      "Toyota Corolla | C\n",
      "Chevrolet Aveo | B\n",
      "Hyundai i10    | A\n"
     ]
    }
   ],
   "source": [
    "print(car_brand(A,B))"
   ]
  },
  {
   "cell_type": "code",
   "execution_count": 296,
   "metadata": {},
   "outputs": [
    {
     "name": "stdout",
     "output_type": "stream",
     "text": [
      "A             \n",
      "--------------\n",
      "Chevrolet Aveo\n",
      "Renault Logan \n"
     ]
    }
   ],
   "source": [
    "print(car_brand(A,'B'))"
   ]
  },
  {
   "cell_type": "code",
   "execution_count": 297,
   "metadata": {},
   "outputs": [],
   "source": [
    "rental_cost['Hyundai i10']=5500"
   ]
  },
  {
   "cell_type": "code",
   "execution_count": 298,
   "metadata": {},
   "outputs": [],
   "source": [
    "rental_cost['Chevrolet Aveo']=6200"
   ]
  },
  {
   "cell_type": "code",
   "execution_count": 345,
   "metadata": {},
   "outputs": [],
   "source": [
    "rental_cost['Toyota Corolla']=7900"
   ]
  },
  {
   "cell_type": "code",
   "execution_count": 346,
   "metadata": {},
   "outputs": [],
   "source": [
    "rental_cost['Audi A4']=8700"
   ]
  },
  {
   "cell_type": "code",
   "execution_count": 347,
   "metadata": {},
   "outputs": [],
   "source": [
    "rental_cost['Renault Logan']=6200"
   ]
  },
  {
   "cell_type": "code",
   "execution_count": 348,
   "metadata": {},
   "outputs": [
    {
     "name": "stdout",
     "output_type": "stream",
     "text": [
      "A              | C   \n",
      "---------------|-----\n",
      "Renault Logan  | 6200\n",
      "Audi A4        | 8700\n",
      "Chevrolet Aveo | 6200\n",
      "Hyundai i10    | 5500\n",
      "Toyota Corolla | 7900\n"
     ]
    }
   ],
   "source": [
    "print(rental_cost[A]==C)"
   ]
  },
  {
   "cell_type": "code",
   "execution_count": 349,
   "metadata": {},
   "outputs": [
    {
     "name": "stdout",
     "output_type": "stream",
     "text": [
      "A              | B | C   \n",
      "---------------|---|-----\n",
      "Renault Logan  | B | 6200\n",
      "Audi A4        | D | 8700\n",
      "Toyota Corolla | C | 7800\n",
      "Chevrolet Aveo | B | 6200\n",
      "Hyundai i10    | A | 5500\n"
     ]
    }
   ],
   "source": [
    "print(car_brand(A,B)&rental_cost(A,C))"
   ]
  },
  {
   "cell_type": "code",
   "execution_count": 350,
   "metadata": {},
   "outputs": [
    {
     "name": "stdout",
     "output_type": "stream",
     "text": [
      "A              | B | C   \n",
      "---------------|---|-----\n",
      "Audi A4        | D | 8700\n",
      "Toyota Corolla | C | 7800\n"
     ]
    }
   ],
   "source": [
    "print(car_brand(A,B)&rental_cost(A,C)&(C>'7000'))"
   ]
  },
  {
   "cell_type": "code",
   "execution_count": 351,
   "metadata": {},
   "outputs": [
    {
     "name": "stdout",
     "output_type": "stream",
     "text": [
      "A              | B | C   \n",
      "---------------|---|-----\n",
      "Renault Logan  | B | 6200\n",
      "Chevrolet Aveo | B | 6200\n"
     ]
    }
   ],
   "source": [
    "print(car_brand(A,B)&rental_cost(A,C)&(C=='6200'))"
   ]
  },
  {
   "cell_type": "code",
   "execution_count": 352,
   "metadata": {},
   "outputs": [],
   "source": [
    "+client('Смирнов Павел Викторович','Hyundai i10')"
   ]
  },
  {
   "cell_type": "code",
   "execution_count": 353,
   "metadata": {},
   "outputs": [],
   "source": [
    "+client('Желтышев Максим Валерьевич','Audi A4')"
   ]
  },
  {
   "cell_type": "code",
   "execution_count": 354,
   "metadata": {},
   "outputs": [],
   "source": [
    "+client('Сабурова Наталья Николаевна','Chevrolet Aveo')"
   ]
  },
  {
   "cell_type": "code",
   "execution_count": 355,
   "metadata": {},
   "outputs": [],
   "source": [
    "+client('Исаев Михаил Васильевич','Hyundai i10')"
   ]
  },
  {
   "cell_type": "code",
   "execution_count": 356,
   "metadata": {},
   "outputs": [],
   "source": [
    "+client('Шестакова Марина Алексеевна','Toyota Corolla')"
   ]
  },
  {
   "cell_type": "code",
   "execution_count": 357,
   "metadata": {},
   "outputs": [],
   "source": [
    "+client('Миронов Иван Андреевич','Chevrolet Aveo')"
   ]
  },
  {
   "cell_type": "code",
   "execution_count": 358,
   "metadata": {},
   "outputs": [
    {
     "name": "stdout",
     "output_type": "stream",
     "text": [
      "D                           | A             \n",
      "----------------------------|---------------\n",
      "Миронов Иван Андреевич      | Chevrolet Aveo\n",
      "Шестакова Марина Алексеевна | Toyota Corolla\n",
      "Исаев Михаил Васильевич     | Hyundai i10   \n",
      "Сабурова Наталья Николаевна | Chevrolet Aveo\n",
      "Желтышев Максим Валерьевич  | Audi A4       \n",
      "Смирнов Павел Викторович    | Hyundai i10   \n"
     ]
    }
   ],
   "source": [
    "print(client(D,A))"
   ]
  },
  {
   "cell_type": "code",
   "execution_count": 359,
   "metadata": {},
   "outputs": [
    {
     "name": "stdout",
     "output_type": "stream",
     "text": [
      "D                       \n",
      "------------------------\n",
      "Смирнов Павел Викторович\n",
      "Исаев Михаил Васильевич \n"
     ]
    }
   ],
   "source": [
    "print (client(D,'Hyundai i10'))"
   ]
  },
  {
   "cell_type": "code",
   "execution_count": 360,
   "metadata": {},
   "outputs": [
    {
     "name": "stdout",
     "output_type": "stream",
     "text": [
      "D                          \n",
      "---------------------------\n",
      "Сабурова Наталья Николаевна\n",
      "Миронов Иван Андреевич     \n"
     ]
    }
   ],
   "source": [
    "print (client(D,'Chevrolet Aveo'))"
   ]
  },
  {
   "cell_type": "code",
   "execution_count": 361,
   "metadata": {},
   "outputs": [
    {
     "name": "stdout",
     "output_type": "stream",
     "text": [
      "D                           | A              | C   \n",
      "----------------------------|----------------|-----\n",
      "Миронов Иван Андреевич      | Chevrolet Aveo | 6200\n",
      "Шестакова Марина Алексеевна | Toyota Corolla | 7800\n",
      "Исаев Михаил Васильевич     | Hyundai i10    | 5500\n",
      "Сабурова Наталья Николаевна | Chevrolet Aveo | 6200\n",
      "Желтышев Максим Валерьевич  | Audi A4        | 8700\n",
      "Смирнов Павел Викторович    | Hyundai i10    | 5500\n"
     ]
    }
   ],
   "source": [
    "print (client(D,A)&rental_cost(A,C))"
   ]
  },
  {
   "cell_type": "code",
   "execution_count": 362,
   "metadata": {},
   "outputs": [
    {
     "name": "stdout",
     "output_type": "stream",
     "text": [
      "D                           | A              | B\n",
      "----------------------------|----------------|--\n",
      "Миронов Иван Андреевич      | Chevrolet Aveo | B\n",
      "Шестакова Марина Алексеевна | Toyota Corolla | C\n",
      "Исаев Михаил Васильевич     | Hyundai i10    | A\n",
      "Сабурова Наталья Николаевна | Chevrolet Aveo | B\n",
      "Желтышев Максим Валерьевич  | Audi A4        | D\n",
      "Смирнов Павел Викторович    | Hyundai i10    | A\n"
     ]
    }
   ],
   "source": [
    "print (client(D,A)&car_brand(A,B))"
   ]
  },
  {
   "cell_type": "code",
   "execution_count": 363,
   "metadata": {},
   "outputs": [
    {
     "name": "stdout",
     "output_type": "stream",
     "text": [
      "D                           | A              | B\n",
      "----------------------------|----------------|--\n",
      "Миронов Иван Андреевич      | Chevrolet Aveo | B\n",
      "Сабурова Наталья Николаевна | Chevrolet Aveo | B\n"
     ]
    }
   ],
   "source": [
    "print (client(D,A)&car_brand(A,B)&car_brand(A,'B'))"
   ]
  },
  {
   "cell_type": "code",
   "execution_count": 364,
   "metadata": {},
   "outputs": [
    {
     "name": "stdout",
     "output_type": "stream",
     "text": [
      "D                          | A       | C   \n",
      "---------------------------|---------|-----\n",
      "Желтышев Максим Валерьевич | Audi A4 | 8700\n"
     ]
    }
   ],
   "source": [
    "print (client(D,A)&rental_cost(A,C)&rental_cost('Audi A4',C))"
   ]
  },
  {
   "cell_type": "code",
   "execution_count": 365,
   "metadata": {},
   "outputs": [],
   "source": [
    "number_of_requests['Смирнов Павел Викторович']=3"
   ]
  },
  {
   "cell_type": "code",
   "execution_count": 366,
   "metadata": {},
   "outputs": [],
   "source": [
    "number_of_requests['Желтышев Максим Валерьевич']=2"
   ]
  },
  {
   "cell_type": "code",
   "execution_count": 367,
   "metadata": {},
   "outputs": [],
   "source": [
    "number_of_requests['Сабурова Наталья Николаевна']=1"
   ]
  },
  {
   "cell_type": "code",
   "execution_count": 368,
   "metadata": {},
   "outputs": [],
   "source": [
    "number_of_requests['Исаев Михаил Васильевич']=1"
   ]
  },
  {
   "cell_type": "code",
   "execution_count": 369,
   "metadata": {},
   "outputs": [],
   "source": [
    "number_of_requests['Шестакова Марина Алексеевна']=2"
   ]
  },
  {
   "cell_type": "code",
   "execution_count": 370,
   "metadata": {},
   "outputs": [],
   "source": [
    "number_of_requests['Миронов Иван Андреевич']=4"
   ]
  },
  {
   "cell_type": "code",
   "execution_count": 371,
   "metadata": {},
   "outputs": [
    {
     "name": "stdout",
     "output_type": "stream",
     "text": [
      "D                           | E\n",
      "----------------------------|--\n",
      "Исаев Михаил Васильевич     | 1\n",
      "Сабурова Наталья Николаевна | 1\n",
      "Смирнов Павел Викторович    | 3\n",
      "Желтышев Максим Валерьевич  | 2\n",
      "Шестакова Марина Алексеевна | 2\n",
      "Миронов Иван Андреевич      | 4\n"
     ]
    }
   ],
   "source": [
    "print(number_of_requests[D]==E)"
   ]
  },
  {
   "cell_type": "code",
   "execution_count": 372,
   "metadata": {},
   "outputs": [
    {
     "name": "stdout",
     "output_type": "stream",
     "text": [
      "E                          \n",
      "---------------------------\n",
      "Смирнов Павел Викторович   \n",
      "Желтышев Максим Валерьевич \n",
      "Шестакова Марина Алексеевна\n",
      "Миронов Иван Андреевич     \n"
     ]
    }
   ],
   "source": [
    "print(number_of_requests[E]>1)"
   ]
  },
  {
   "cell_type": "code",
   "execution_count": 373,
   "metadata": {},
   "outputs": [
    {
     "name": "stdout",
     "output_type": "stream",
     "text": [
      "D                        | E\n",
      "-------------------------|--\n",
      "Смирнов Павел Викторович | 3\n",
      "Миронов Иван Андреевич   | 4\n"
     ]
    }
   ],
   "source": [
    "print((number_of_requests[D]==E)&(E>2))"
   ]
  },
  {
   "cell_type": "code",
   "execution_count": 374,
   "metadata": {},
   "outputs": [],
   "source": [
    "+(discount[None]==0.10)"
   ]
  },
  {
   "cell_type": "code",
   "execution_count": 375,
   "metadata": {},
   "outputs": [],
   "source": [
    "discount_rental_price[F]= rental_cost[C]*(1-discount[None])"
   ]
  },
  {
   "cell_type": "code",
   "execution_count": 376,
   "metadata": {},
   "outputs": [
    {
     "name": "stdout",
     "output_type": "stream",
     "text": [
      "F              | C     \n",
      "---------------|-------\n",
      "Renault Logan  | 5580.0\n",
      "Audi A4        | 7830.0\n",
      "Chevrolet Aveo | 5580.0\n",
      "Hyundai i10    | 4950.0\n",
      "Toyota Corolla | 7110.0\n"
     ]
    }
   ],
   "source": [
    "print(C==rental_cost[F]*(1-discount[None]))"
   ]
  },
  {
   "cell_type": "code",
   "execution_count": 377,
   "metadata": {},
   "outputs": [],
   "source": [
    "discount_rental_price[F]= rental_cost[C]*(1-discount[None])"
   ]
  },
  {
   "cell_type": "code",
   "execution_count": 378,
   "metadata": {},
   "outputs": [
    {
     "name": "stdout",
     "output_type": "stream",
     "text": [
      "F              | C    | D     \n",
      "---------------|------|-------\n",
      "Renault Logan  | 6200 | 7830.0\n",
      "Audi A4        | 8700 | 5580.0\n",
      "Chevrolet Aveo | 6200 | 4950.0\n",
      "Hyundai i10    | 5500 | 7110.0\n",
      "Toyota Corolla | 7900 | 7110.0\n"
     ]
    }
   ],
   "source": [
    "print((rental_cost[F]==C)&(discount_rental_price[F]==D))"
   ]
  },
  {
   "cell_type": "code",
   "execution_count": 379,
   "metadata": {},
   "outputs": [
    {
     "data": {
      "text/plain": [
       "discount[1]==(*,F,'0.1') <= >=(F,'0')"
      ]
     },
     "execution_count": 379,
     "metadata": {},
     "output_type": "execute_result"
    }
   ],
   "source": [
    "(discount[F]==0.10)<=(0<=F)"
   ]
  },
  {
   "cell_type": "code",
   "execution_count": 380,
   "metadata": {},
   "outputs": [],
   "source": [
    "discount_rental_price[F]=rental_cost[F]*(1-discount[rental_cost[F]])"
   ]
  },
  {
   "cell_type": "code",
   "execution_count": 381,
   "metadata": {},
   "outputs": [
    {
     "name": "stdout",
     "output_type": "stream",
     "text": [
      "D  \n",
      "---\n",
      "0.1\n"
     ]
    }
   ],
   "source": [
    "print(discount[5580]==D)"
   ]
  },
  {
   "cell_type": "code",
   "execution_count": 382,
   "metadata": {},
   "outputs": [
    {
     "data": {
      "text/plain": [
       "discount[1]==(*,F,'0.1') <= >=(F,'0')"
      ]
     },
     "execution_count": 382,
     "metadata": {},
     "output_type": "execute_result"
    }
   ],
   "source": [
    "(discount[F]==0.10)<=(0<=F)"
   ]
  },
  {
   "cell_type": "code",
   "execution_count": 383,
   "metadata": {},
   "outputs": [
    {
     "data": {
      "text/plain": [
       "discount[1]==(*,F,'0.05') <= >=(F,'7500')"
      ]
     },
     "execution_count": 383,
     "metadata": {},
     "output_type": "execute_result"
    }
   ],
   "source": [
    "(discount[F]==0.05)<=(7500<=F)"
   ]
  },
  {
   "cell_type": "code",
   "execution_count": 384,
   "metadata": {},
   "outputs": [
    {
     "name": "stdout",
     "output_type": "stream",
     "text": [
      "N   \n",
      "----\n",
      "0.05\n"
     ]
    }
   ],
   "source": [
    "print(discount[8700]==N)"
   ]
  },
  {
   "cell_type": "code",
   "execution_count": 385,
   "metadata": {},
   "outputs": [
    {
     "name": "stdout",
     "output_type": "stream",
     "text": [
      "N  \n",
      "---\n",
      "0.1\n"
     ]
    }
   ],
   "source": [
    "print(discount[6200]==N)"
   ]
  },
  {
   "cell_type": "code",
   "execution_count": 386,
   "metadata": {},
   "outputs": [
    {
     "name": "stdout",
     "output_type": "stream",
     "text": [
      "N  \n",
      "---\n",
      "0.1\n"
     ]
    }
   ],
   "source": [
    "print(discount[5500]==N)"
   ]
  },
  {
   "cell_type": "code",
   "execution_count": 387,
   "metadata": {},
   "outputs": [
    {
     "name": "stdout",
     "output_type": "stream",
     "text": [
      "N   \n",
      "----\n",
      "0.05\n"
     ]
    }
   ],
   "source": [
    "print(discount[7900]==N)"
   ]
  },
  {
   "cell_type": "code",
   "execution_count": null,
   "metadata": {},
   "outputs": [],
   "source": []
  },
  {
   "cell_type": "code",
   "execution_count": null,
   "metadata": {},
   "outputs": [],
   "source": []
  }
 ],
 "metadata": {
  "kernelspec": {
   "display_name": "Python 3",
   "language": "python",
   "name": "python3"
  },
  "language_info": {
   "codemirror_mode": {
    "name": "ipython",
    "version": 3
   },
   "file_extension": ".py",
   "mimetype": "text/x-python",
   "name": "python",
   "nbconvert_exporter": "python",
   "pygments_lexer": "ipython3",
   "version": "3.8.5"
  }
 },
 "nbformat": 4,
 "nbformat_minor": 4
}
